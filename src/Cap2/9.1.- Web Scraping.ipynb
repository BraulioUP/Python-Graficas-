{
 "cells": [
  {
   "cell_type": "markdown",
   "id": "60e84751-e12f-471a-a779-cd6268b2cafe",
   "metadata": {
    "tags": []
   },
   "source": [
    "# Web Scraping con Python"
   ]
  },
  {
   "cell_type": "markdown",
   "id": "e2e05755-8874-4b1b-b68f-243574073c14",
   "metadata": {},
   "source": [
    "### Librerías"
   ]
  },
  {
   "cell_type": "markdown",
   "id": "5dc5df30-d5b1-4244-b13a-e7bfb769aef5",
   "metadata": {},
   "source": [
    "Vamos a necesitar Selenium, BeautifulSoup y Pandas"
   ]
  },
  {
   "cell_type": "markdown",
   "id": "4781e092-2e23-4a6a-beee-e7baa01de547",
   "metadata": {},
   "source": [
    "Instala Selenium con el siguiente código *conda install -c conda-forge selenium*"
   ]
  },
  {
   "cell_type": "markdown",
   "id": "f26fcb1c-cbdf-404a-b6e8-526b2a81479b",
   "metadata": {},
   "source": [
    "Instala BeautifulSoup con el código *conda install -c anaconda beautifulsoup4*"
   ]
  },
  {
   "cell_type": "markdown",
   "id": "27c2173e-974b-4b77-9c04-349b73f773d4",
   "metadata": {},
   "source": [
    "Ahora Carga Webdriver de Selenium"
   ]
  },
  {
   "cell_type": "code",
   "execution_count": 9,
   "id": "fdefd855-2542-4103-b377-497df841d60a",
   "metadata": {},
   "outputs": [],
   "source": [
    "from selenium import webdriver"
   ]
  },
  {
   "cell_type": "markdown",
   "id": "16d21115-5e77-4893-8225-5de083d94f96",
   "metadata": {},
   "source": [
    "Carga BeautifulSoup de Beautiful Soup"
   ]
  },
  {
   "cell_type": "code",
   "execution_count": 10,
   "id": "1e1cec69-a6f3-4100-aa13-fceb78b62c8f",
   "metadata": {},
   "outputs": [],
   "source": [
    "from bs4 import BeautifulSoup as bs4"
   ]
  },
  {
   "cell_type": "markdown",
   "id": "b8a2dd5d-d22f-4566-bd14-659cdaee3197",
   "metadata": {},
   "source": [
    "Y Pandas como PD"
   ]
  },
  {
   "cell_type": "code",
   "execution_count": 11,
   "id": "03da2252-f3c4-42d9-ab86-561744346d97",
   "metadata": {},
   "outputs": [],
   "source": [
    "import pandas as pd"
   ]
  },
  {
   "cell_type": "markdown",
   "id": "fbe2df9a-e83b-4bec-a837-978eb847b023",
   "metadata": {},
   "source": [
    "## Configuración"
   ]
  },
  {
   "cell_type": "markdown",
   "id": "de6f69e5-d9a8-4298-a27e-54800bd3c0bf",
   "metadata": {},
   "source": [
    "Ok, ahora configura webdriver para usar Chrome por default, localiza tu chromedriver y usalo en este comando"
   ]
  },
  {
   "cell_type": "code",
   "execution_count": 12,
   "id": "bc07c1fe-877d-487b-8620-201619c334a4",
   "metadata": {},
   "outputs": [],
   "source": [
    "from selenium.webdriver.chrome.service import Service\n",
    "from webdriver_manager.chrome import ChromeDriverManager\n"
   ]
  },
  {
   "cell_type": "markdown",
   "id": "6aea0c37-f62b-4e5a-9437-2fcdecb94c53",
   "metadata": {},
   "source": [
    "Arma 3 listas, una para metros cuadrados, otra para precio y otra para ubicacion"
   ]
  },
  {
   "cell_type": "code",
   "execution_count": 13,
   "id": "1cf22a0d-ba5e-4acd-a71e-d500101b749e",
   "metadata": {},
   "outputs": [],
   "source": [
    "titulosu = []\n",
    "\n",
    "presiosu = []\n",
    "\n",
    "stocksu = []"
   ]
  },
  {
   "cell_type": "code",
   "execution_count": 14,
   "id": "5cddab97-e26e-4186-a774-89c79f3ba5e1",
   "metadata": {},
   "outputs": [],
   "source": [
    "titulos = []\n",
    "\n",
    "presios = []\n",
    "\n",
    "stocks = []"
   ]
  },
  {
   "cell_type": "markdown",
   "id": "d554199f-de6c-4193-b0bd-2c3f7aa7a0e6",
   "metadata": {},
   "source": [
    "Y arma un driver.get para especificar la página de donde vamos a trabajar"
   ]
  },
  {
   "cell_type": "code",
   "execution_count": 15,
   "id": "2e9e13b8-35da-485d-b0be-b4916778829e",
   "metadata": {},
   "outputs": [
    {
     "ename": "NameError",
     "evalue": "name 'driver' is not defined",
     "output_type": "error",
     "traceback": [
      "\u001b[1;31m---------------------------------------------------------------------------\u001b[0m",
      "\u001b[1;31mNameError\u001b[0m                                 Traceback (most recent call last)",
      "Cell \u001b[1;32mIn[15], line 1\u001b[0m\n\u001b[1;32m----> 1\u001b[0m \u001b[43mdriver\u001b[49m\u001b[38;5;241m.\u001b[39mget()\n",
      "\u001b[1;31mNameError\u001b[0m: name 'driver' is not defined"
     ]
    }
   ],
   "source": [
    "driver.get()"
   ]
  },
  {
   "cell_type": "markdown",
   "id": "e76be684-81c9-4620-bac4-a3c841878c06",
   "metadata": {},
   "source": [
    "## Extracción de Datos"
   ]
  },
  {
   "cell_type": "markdown",
   "id": "0e2af542-d356-4ebc-ba56-8329945267f5",
   "metadata": {},
   "source": [
    "Guarda el código HTML de la página en un objeto Contenido"
   ]
  },
  {
   "cell_type": "code",
   "execution_count": null,
   "id": "100cc676-8746-4af9-ba49-9deaae8ac314",
   "metadata": {},
   "outputs": [
    {
     "ename": "NameError",
     "evalue": "name 'driver' is not defined",
     "output_type": "error",
     "traceback": [
      "\u001b[1;31m---------------------------------------------------------------------------\u001b[0m",
      "\u001b[1;31mNameError\u001b[0m                                 Traceback (most recent call last)",
      "Cell \u001b[1;32mIn[2], line 1\u001b[0m\n\u001b[1;32m----> 1\u001b[0m contenido \u001b[38;5;241m=\u001b[39m \u001b[43mdriver\u001b[49m\u001b[38;5;241m.\u001b[39mpage_source\n",
      "\u001b[1;31mNameError\u001b[0m: name 'driver' is not defined"
     ]
    }
   ],
   "source": [
    "contenido = driver.page_source"
   ]
  },
  {
   "cell_type": "code",
   "execution_count": null,
   "id": "2ceafce6-32b7-4485-bd3b-c74afb7c6ef1",
   "metadata": {},
   "outputs": [],
   "source": [
    "contenido"
   ]
  },
  {
   "cell_type": "markdown",
   "id": "96838dbf-ae0d-4954-af3a-7b7f6da03ad4",
   "metadata": {},
   "source": [
    "Conviertelo a BeautifulSoup"
   ]
  },
  {
   "cell_type": "code",
   "execution_count": null,
   "id": "7336ebbb-74e1-480b-975e-32aced23d286",
   "metadata": {},
   "outputs": [
    {
     "ename": "NameError",
     "evalue": "name 'bs4' is not defined",
     "output_type": "error",
     "traceback": [
      "\u001b[1;31m---------------------------------------------------------------------------\u001b[0m",
      "\u001b[1;31mNameError\u001b[0m                                 Traceback (most recent call last)",
      "Cell \u001b[1;32mIn[1], line 1\u001b[0m\n\u001b[1;32m----> 1\u001b[0m soup \u001b[38;5;241m=\u001b[39m \u001b[43mbs4\u001b[49m(contenido)\n",
      "\u001b[1;31mNameError\u001b[0m: name 'bs4' is not defined"
     ]
    }
   ],
   "source": [
    "soup = bs4(contenido)"
   ]
  },
  {
   "cell_type": "code",
   "execution_count": null,
   "id": "b503592c-2589-4017-8dd3-206c3c64c4b4",
   "metadata": {},
   "outputs": [
    {
     "ename": "NameError",
     "evalue": "name 'soup' is not defined",
     "output_type": "error",
     "traceback": [
      "\u001b[1;31m---------------------------------------------------------------------------\u001b[0m",
      "\u001b[1;31mNameError\u001b[0m                                 Traceback (most recent call last)",
      "Cell \u001b[1;32mIn[8], line 1\u001b[0m\n\u001b[1;32m----> 1\u001b[0m \u001b[43msoup\u001b[49m\u001b[38;5;241m.\u001b[39mfind_fill(\u001b[38;5;124m\"\u001b[39m\u001b[38;5;124marticle\u001b[39m\u001b[38;5;124m\"\u001b[39m, attrs\u001b[38;5;241m=\u001b[39m{\u001b[38;5;124m\"\u001b[39m\u001b[38;5;124mclass\u001b[39m\u001b[38;5;124m\"\u001b[39m:\u001b[38;5;124m\"\u001b[39m\u001b[38;5;124mproduct-pod\u001b[39m\u001b[38;5;124m\"\u001b[39m})\n",
      "\u001b[1;31mNameError\u001b[0m: name 'soup' is not defined"
     ]
    }
   ],
   "source": [
    "soup.find_fill(\"article\", attrs={\"class\":\"product-pod\"})"
   ]
  },
  {
   "cell_type": "markdown",
   "id": "9c4ca0f2-1aac-4407-b038-88dbcce7fad8",
   "metadata": {},
   "source": [
    "Arma un for en el que vayas agregando a nuestras listas los datos necesarios con a.find, usa . append para ir agregando los datos a las listas"
   ]
  },
  {
   "cell_type": "code",
   "execution_count": null,
   "id": "c9f36965-a9f8-46d3-a0ec-c69966a079f8",
   "metadata": {},
   "outputs": [],
   "source": [
    "\n",
    "\n",
    "        "
   ]
  },
  {
   "cell_type": "code",
   "execution_count": null,
   "id": "d45d2e5a-ab58-4dbd-bab3-e9a2766aa7f9",
   "metadata": {},
   "outputs": [],
   "source": []
  },
  {
   "cell_type": "code",
   "execution_count": null,
   "id": "f1333e75-480c-4511-aa70-9a94b601c59d",
   "metadata": {},
   "outputs": [],
   "source": []
  },
  {
   "cell_type": "code",
   "execution_count": null,
   "id": "e76f7233-c962-488c-bfcd-fcced531d220",
   "metadata": {},
   "outputs": [],
   "source": []
  },
  {
   "cell_type": "code",
   "execution_count": null,
   "id": "afbd0914-7031-4bff-a041-c74272d20cdb",
   "metadata": {},
   "outputs": [],
   "source": []
  },
  {
   "cell_type": "markdown",
   "id": "89b0739a-0f57-4a16-8e1b-e47f686ef53e",
   "metadata": {},
   "source": [
    "Arma un for para limpiar precio"
   ]
  },
  {
   "cell_type": "code",
   "execution_count": null,
   "id": "bd68a15a-9db7-4712-b303-a421f8709678",
   "metadata": {},
   "outputs": [],
   "source": []
  },
  {
   "cell_type": "code",
   "execution_count": null,
   "id": "d8431595-c04e-4399-ab4d-e00263095400",
   "metadata": {},
   "outputs": [],
   "source": []
  },
  {
   "cell_type": "markdown",
   "id": "fbcc4ee5-cf4c-466e-ae5f-ff319d4ee061",
   "metadata": {},
   "source": [
    "Arma un for para limpiar ubicación"
   ]
  },
  {
   "cell_type": "code",
   "execution_count": null,
   "id": "cfd1c8ec-655e-493a-8a02-da3a3ce12d8b",
   "metadata": {},
   "outputs": [],
   "source": []
  },
  {
   "cell_type": "code",
   "execution_count": null,
   "id": "cb6f049a-4e02-4066-90f3-07952b0b3441",
   "metadata": {},
   "outputs": [],
   "source": []
  },
  {
   "cell_type": "markdown",
   "id": "4bef1b0b-2f8b-448c-8301-9d318500d69e",
   "metadata": {},
   "source": [
    "Arma un for para limpiar m2"
   ]
  },
  {
   "cell_type": "code",
   "execution_count": null,
   "id": "702b5bb0-7e61-43de-91cd-165bb14fa285",
   "metadata": {},
   "outputs": [],
   "source": []
  },
  {
   "cell_type": "code",
   "execution_count": null,
   "id": "4f25c639-fa24-470f-9957-8de8a3bd7153",
   "metadata": {},
   "outputs": [],
   "source": [
    "m2"
   ]
  },
  {
   "cell_type": "markdown",
   "id": "3c448576-866a-4159-91b0-c73244f54128",
   "metadata": {},
   "source": [
    "## Almacenamiento"
   ]
  },
  {
   "cell_type": "markdown",
   "id": "b0c0ea92-8e81-418c-bb79-6ef5643f558a",
   "metadata": {},
   "source": [
    "Guarda tus datos en un dataframe"
   ]
  },
  {
   "cell_type": "code",
   "execution_count": null,
   "id": "af5a6677-24ad-47e6-808b-f8ca9c878d76",
   "metadata": {},
   "outputs": [],
   "source": []
  },
  {
   "cell_type": "code",
   "execution_count": null,
   "id": "dc17fdda-3e34-4254-9c8a-e14988d97341",
   "metadata": {},
   "outputs": [],
   "source": []
  },
  {
   "cell_type": "markdown",
   "id": "5fc17341-c493-4a5f-9076-6863992a28ce",
   "metadata": {},
   "source": [
    "Exporta tu Dataframe a un archivo CSV y abrelo en Excel"
   ]
  },
  {
   "cell_type": "code",
   "execution_count": null,
   "id": "86dba992-5383-4ba2-b80b-24ce81c5d4d1",
   "metadata": {},
   "outputs": [],
   "source": []
  }
 ],
 "metadata": {
  "kernelspec": {
   "display_name": "Python 3 (ipykernel)",
   "language": "python",
   "name": "python3"
  },
  "language_info": {
   "codemirror_mode": {
    "name": "ipython",
    "version": 3
   },
   "file_extension": ".py",
   "mimetype": "text/x-python",
   "name": "python",
   "nbconvert_exporter": "python",
   "pygments_lexer": "ipython3",
   "version": "3.12.1"
  }
 },
 "nbformat": 4,
 "nbformat_minor": 5
}
